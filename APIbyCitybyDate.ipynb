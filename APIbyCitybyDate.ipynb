{
 "cells": [
  {
   "cell_type": "code",
   "execution_count": 2,
   "metadata": {},
   "outputs": [],
   "source": [
    "# Configurar a API com Flask\n",
    "from flask import Flask, request, jsonify\n",
    "from pyspark.sql import SparkSession\n",
    "from pyspark.sql.functions import avg\n",
    "from pyspark.sql import SparkSession\n",
    "from pyspark.sql.functions import avg, to_date, col"
   ]
  },
  {
   "cell_type": "code",
   "execution_count": 3,
   "metadata": {},
   "outputs": [],
   "source": [
    "app = Flask(__name__)"
   ]
  },
  {
   "cell_type": "code",
   "execution_count": 4,
   "metadata": {},
   "outputs": [
    {
     "name": "stderr",
     "output_type": "stream",
     "text": [
      "24/09/03 21:30:16 WARN Utils: Your hostname, MacBook-Air-de-Wesley.local resolves to a loopback address: 127.0.0.1; using 192.168.0.161 instead (on interface en0)\n",
      "24/09/03 21:30:16 WARN Utils: Set SPARK_LOCAL_IP if you need to bind to another address\n",
      "Setting default log level to \"WARN\".\n",
      "To adjust logging level use sc.setLogLevel(newLevel). For SparkR, use setLogLevel(newLevel).\n",
      "24/09/03 21:30:17 WARN NativeCodeLoader: Unable to load native-hadoop library for your platform... using builtin-java classes where applicable\n"
     ]
    }
   ],
   "source": [
    "# Inicializar a SparkSession\n",
    "spark = SparkSession.builder \\\n",
    "    .appName(\"Global Temperature Analysis by date by city API\") \\\n",
    "    .getOrCreate()"
   ]
  },
  {
   "cell_type": "code",
   "execution_count": 5,
   "metadata": {},
   "outputs": [
    {
     "name": "stderr",
     "output_type": "stream",
     "text": [
      "                                                                                \r"
     ]
    }
   ],
   "source": [
    "# Carregar o dataset limpo\n",
    "df = spark.read.csv('cleanedUnico_bytemperature_bydatabycity.csv/part-00000-059553c9-5662-487f-ae72-f4bab6705764-c000.csv', header=True, inferSchema=True)\n"
   ]
  },
  {
   "cell_type": "code",
   "execution_count": 6,
   "metadata": {},
   "outputs": [],
   "source": [
    "# Certificar-se de que a coluna 'dt' está no formato de data\n",
    "df = df.withColumn(\"dt\", to_date(col(\"dt\")))"
   ]
  },
  {
   "cell_type": "code",
   "execution_count": 7,
   "metadata": {},
   "outputs": [],
   "source": [
    "@app.route('/get_countrys_temperature', methods=['GET'])\n",
    "def get_temperature_by_country():\n",
    "    country = request.args.get('country')\n",
    "    df_filtered = df.filter(df['Country'] == country)\n",
    "    avg_temp = df_filtered.agg(avg(\"AverageTemperature\").alias(\"AverageTemperature\")).collect()\n",
    "\n",
    "    if avg_temp:\n",
    "        temperature = avg_temp[0]['AverageTemperature']\n",
    "        return jsonify({'country': country, 'average_temperature': temperature})\n",
    "    else:\n",
    "        return jsonify({'error': 'Country not found'}), 404"
   ]
  },
  {
   "cell_type": "code",
   "execution_count": 8,
   "metadata": {},
   "outputs": [],
   "source": [
    "@app.route('/get_temperature_by_date_country', methods=['GET'])\n",
    "def get_temperature_by_date_country():\n",
    "    country = request.args.get('country')\n",
    "    date = request.args.get('date')\n",
    "    df_filtered = df.filter((df['Country'] == country) & (df['dt'] == date))\n",
    "    avg_temp = df_filtered.agg(avg(\"AverageTemperature\").alias(\"AverageTemperature\")).collect()\n",
    "\n",
    "    if avg_temp:\n",
    "        temperature = avg_temp[0]['AverageTemperature']\n",
    "        return jsonify({'country': country, 'date': date, 'average_temperature': temperature})\n",
    "    else:\n",
    "        return jsonify({'error': 'Temperature data not found for the given country and date'}), 404"
   ]
  },
  {
   "cell_type": "code",
   "execution_count": 9,
   "metadata": {},
   "outputs": [],
   "source": [
    "@app.route('/get_temperature_by_city_date', methods=['GET'])\n",
    "def get_temperature_by_city_date():\n",
    "    city = request.args.get('city')\n",
    "    date = request.args.get('date')\n",
    "    df_filtered = df.filter((df['City'] == city) & (df['dt'] == date))\n",
    "    avg_temp = df_filtered.agg(avg(\"AverageTemperature\").alias(\"AverageTemperature\")).collect()\n",
    "\n",
    "    if avg_temp:\n",
    "        temperature = avg_temp[0]['AverageTemperature']\n",
    "        return jsonify({'city': city, 'date': date, 'average_temperature': temperature})\n",
    "    else:\n",
    "        return jsonify({'error': 'Temperature data not found for the given city and date'}), 404"
   ]
  },
  {
   "cell_type": "code",
   "execution_count": 10,
   "metadata": {},
   "outputs": [],
   "source": [
    "@app.route('/get_temperature_by_country_city', methods=['GET'])\n",
    "def get_temperature_by_country_city():\n",
    "    country = request.args.get('country')\n",
    "    city = request.args.get('city')\n",
    "    df_filtered = df.filter((df['Country'] == country) & (df['City'] == city))\n",
    "    avg_temp = df_filtered.agg(avg(\"AverageTemperature\").alias(\"AverageTemperature\")).collect()\n",
    "\n",
    "    if avg_temp:\n",
    "        temperature = avg_temp[0]['AverageTemperature']\n",
    "        return jsonify({'country': country, 'city': city, 'average_temperature': temperature})\n",
    "    else:\n",
    "        return jsonify({'error': 'Temperature data not found for the given country and city'}), 404"
   ]
  },
  {
   "cell_type": "code",
   "execution_count": 11,
   "metadata": {},
   "outputs": [],
   "source": [
    "@app.route('/get_temperature_by_country_date_range', methods=['GET'])\n",
    "def get_temperature_by_country_date_range():\n",
    "    country = request.args.get('country')\n",
    "    start_date = request.args.get('start_date')\n",
    "    end_date = request.args.get('end_date')\n",
    "    \n",
    "    df_filtered = df.filter(\n",
    "        (df['Country'] == country) &\n",
    "        (df['dt'] >= start_date) &\n",
    "        (df['dt'] <= end_date)\n",
    "    )\n",
    "    \n",
    "    df_filtered = df_filtered.select('dt', 'AverageTemperature').orderBy('dt')\n",
    "    results = df_filtered.collect()\n",
    "    \n",
    "    if results:\n",
    "        temperatures = [{'date': row['dt'].strftime('%Y-%m-%d'), 'temperature': row['AverageTemperature']} for row in results]\n",
    "        return jsonify({'country': country, 'temperature_data': temperatures})\n",
    "    else:\n",
    "        return jsonify({'error': 'Temperature data not found for the given country and date range'}), 404\n"
   ]
  },
  {
   "cell_type": "code",
   "execution_count": 13,
   "metadata": {},
   "outputs": [
    {
     "name": "stdout",
     "output_type": "stream",
     "text": [
      " * Serving Flask app '__main__'\n",
      " * Debug mode: off\n"
     ]
    },
    {
     "name": "stderr",
     "output_type": "stream",
     "text": [
      "\u001b[31m\u001b[1mWARNING: This is a development server. Do not use it in a production deployment. Use a production WSGI server instead.\u001b[0m\n",
      " * Running on http://127.0.0.1:5003\n",
      "\u001b[33mPress CTRL+C to quit\u001b[0m\n",
      "127.0.0.1 - - [03/Sep/2024 21:57:37] \"GET /get_countrys_temperature?country=Russia&date=1990-01-01 HTTP/1.1\" 200 -\n",
      "127.0.0.1 - - [03/Sep/2024 21:57:53] \"GET /get_countrys_temperature?country=Brasil&date=1990-01-01 HTTP/1.1\" 200 -\n",
      "127.0.0.1 - - [03/Sep/2024 21:58:00] \"GET /get_countrys_temperature?country=Brazil&date=1990-01-01 HTTP/1.1\" 200 -\n",
      "127.0.0.1 - - [03/Sep/2024 22:10:36] \"GET /get_countrys_temperature?country=Brazil&date=1990-01-01 HTTP/1.1\" 200 -\n",
      "127.0.0.1 - - [03/Sep/2024 22:10:51] \"GET /get_countrys_temperature?country=Brazil&date=1970-01-01 HTTP/1.1\" 200 -\n",
      "127.0.0.1 - - [03/Sep/2024 22:11:13] \"GET /get_temperature_by_city_date?city=Moscow&date=1990-01-01 HTTP/1.1\" 200 -\n",
      "127.0.0.1 - - [03/Sep/2024 22:12:28] \"GET /get_temperature_by_city_date?city=Salvador&date=1990-01-01 HTTP/1.1\" 200 -\n",
      "127.0.0.1 - - [03/Sep/2024 22:12:28] \"GET /get_temperature_by_city_date?city=Salvador&date=1990-01-01 HTTP/1.1\" 200 -\n",
      "127.0.0.1 - - [03/Sep/2024 22:15:10] \"GET /get_countrys_temperature?country=Brazil&date=1990-01-01 HTTP/1.1\" 200 -\n",
      "127.0.0.1 - - [03/Sep/2024 22:15:33] \"GET /get_temperature_by_city_date?city=Salvador&date=2010-01-01 HTTP/1.1\" 200 -\n"
     ]
    }
   ],
   "source": [
    "if __name__ == \"__main__\":\n",
    "    app.run(port=5003)"
   ]
  }
 ],
 "metadata": {
  "kernelspec": {
   "display_name": "Python 3",
   "language": "python",
   "name": "python3"
  },
  "language_info": {
   "codemirror_mode": {
    "name": "ipython",
    "version": 3
   },
   "file_extension": ".py",
   "mimetype": "text/x-python",
   "name": "python",
   "nbconvert_exporter": "python",
   "pygments_lexer": "ipython3",
   "version": "3.12.5"
  }
 },
 "nbformat": 4,
 "nbformat_minor": 2
}
